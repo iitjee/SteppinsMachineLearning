{
 "cells": [
  {
   "cell_type": "code",
   "execution_count": 3,
   "metadata": {
    "collapsed": false
   },
   "outputs": [
    {
     "name": "stdout",
     "output_type": "stream",
     "text": [
      "Collecting nltk\n",
      "  Downloading nltk-3.2.1.tar.gz (1.1MB)\n",
      "\u001b[K    100% |████████████████████████████████| 1.1MB 396kB/s \n",
      "\u001b[?25hBuilding wheels for collected packages: nltk\n",
      "  Running setup.py bdist_wheel for nltk ... \u001b[?25l-\b \b\\\b \b|\b \b/\b \bdone\n",
      "\u001b[?25h  Stored in directory: /Users/dwdcw/Library/Caches/pip/wheels/55/0b/ce/960dcdaec7c9af5b1f81d471a90c8dae88374386efe6e54a50\n",
      "Successfully built nltk\n",
      "Installing collected packages: nltk\n",
      "Successfully installed nltk-3.2.1\n"
     ]
    }
   ],
   "source": [
    "!pip install nltk"
   ]
  },
  {
   "cell_type": "code",
   "execution_count": 1,
   "metadata": {
    "collapsed": false
   },
   "outputs": [],
   "source": [
    "import nltk ",
    "nltk.download()"
   ]
  },
  {
   "cell_type": "code",
   "execution_count": 2,
   "metadata": {
    "collapsed": false
   },
   "outputs": [
    {
     "name": "stdout",
     "output_type": "stream",
     "text": [
      "['Mary had a little lamb.', 'Her fleece was white as snow']\n"
     ]
    }
   ],
   "source": [
    "#1. Tokenizing Text\n",
    "text=\"Mary had a little lamb. Her fleece was white as snow\"\n",
    "from nltk.tokenize import word_tokenize, sent_tokenize #nltk.tokenize is module name and word_tokenize, sent_tokenize is function name\n",
    "sents=sent_tokenize(text) #sent = sentence\n",
    "print(sents) #list of sentences"
   ]
  },
  {
   "cell_type": "code",
   "execution_count": 13,
   "metadata": {
    "collapsed": false
   },
   "outputs": [
    {
     "name": "stdout",
     "output_type": "stream",
     "text": [
      "[['Mary', 'had', 'a', 'little', 'lamb', '.'], ['Her', 'fleece', 'was', 'white', 'as', 'snow']]\n"
     ]
    }
   ],
   "source": [
    "words=[word_tokenize(sent) for sent in sents] #list of words from each sentence\n",
    "print(words) #Sentences are tokenized into words(aka tokens)\n",
    "#note that punctuation marks are treated as seperate tokens"
   ]
  },
  {
   "cell_type": "code",
   "execution_count": 4,
   "metadata": {
    "collapsed": true
   },
   "outputs": [],
   "source": [
    "#2. Removing Stop Words\n",
    "from nltk.corpus import stopwords #importing a pre-defined collectino of stopwords provided by nltk.corpus\n",
    "from string import punctuation #importing all punctuation marks from the string module\n",
    "customStopWords=set(stopwords.words('english')+list(punctuation)) #stopwords.words('english') = list of stopwords in english\n",
    "#Note that we've combined english stopwords and punctuation marks into a \"set\" as order doesn't really matter here"
   ]
  },
  {
   "cell_type": "code",
   "execution_count": 5,
   "metadata": {
    "collapsed": false
   },
   "outputs": [
    {
     "name": "stdout",
     "output_type": "stream",
     "text": [
      "['Mary', 'little', 'lamb', 'Her', 'fleece', 'white', 'snow']\n"
     ]
    }
   ],
   "source": [
    "wordsWOStopwords=[word for word in word_tokenize(text) if word not in customStopWords] #Stopwords+punctuation removed\n",
    "print(wordsWOStopwords) #words with out stopwords"
   ]
  },
  {
   "cell_type": "code",
   "execution_count": 6,
   "metadata": {
    "collapsed": false
   },
   "outputs": [
    {
     "data": {
      "text/plain": [
       "[(('Her', 'fleece'), 1),\n",
       " (('Mary', 'little'), 1),\n",
       " (('fleece', 'white'), 1),\n",
       " (('lamb', 'Her'), 1),\n",
       " (('little', 'lamb'), 1),\n",
       " (('white', 'snow'), 1)]"
      ]
     },
     "execution_count": 6,
     "metadata": {},
     "output_type": "execute_result"
    }
   ],
   "source": [
    "#3. Constructing Bigrams = Any pair of words that exist consecutively\n",
    "from nltk.collocations import * #import all functions from collocations module of nltk\n",
    "bigram_measures = nltk.collocations.BigramAssocMeasures()\n",
    "finder = BigramCollocationFinder.from_words(wordsWOStopwords) #we use a class called 'BigramCollocationFinder' which helps to construct bigrams from a list of words\n",
    "sorted(finder.ngram_fd.items()) #now the finder object has \"ngram_fd.items()\" method to print out the bigram items it has constructed\n",
    "#Below is the list of all bigrams(consecutive words) with their frequencies"
   ]
  },
  {
   "cell_type": "code",
   "execution_count": 7,
   "metadata": {
    "collapsed": false
   },
   "outputs": [
    {
     "name": "stdout",
     "output_type": "stream",
     "text": [
      "['mary', 'clos', 'on', 'clos', 'night', 'when', 'she', 'was', 'in', 'the', 'mood', 'to', 'clos', '.']\n"
     ]
    }
   ],
   "source": [
    "#4. Stemming (Removing ends of words like close, closed, closely, closer => clos)\n",
    "text2 = \"Mary closed on closing night when she was in the mood to close.\" #word \"close\" occurs in different morphological forms\n",
    "from nltk.stem.lancaster import LancasterStemmer #nltk.stem module has many stemming approaches. Here we use the LancasterStemmer class\n",
    "st=LancasterStemmer() #Instantiate the class\n",
    "stemmedWords=[st.stem(word) for word in word_tokenize(text2)] #Just call the stem(..) method\n",
    "print(stemmedWords)"
   ]
  },
  {
   "cell_type": "code",
   "execution_count": 8,
   "metadata": {
    "collapsed": false
   },
   "outputs": [
    {
     "data": {
      "text/plain": [
       "[('Mary', 'NNP'),\n",
       " ('closed', 'VBD'),\n",
       " ('on', 'IN'),\n",
       " ('closing', 'NN'),\n",
       " ('night', 'NN'),\n",
       " ('when', 'WRB'),\n",
       " ('she', 'PRP'),\n",
       " ('was', 'VBD'),\n",
       " ('in', 'IN'),\n",
       " ('the', 'DT'),\n",
       " ('mood', 'NN'),\n",
       " ('to', 'TO'),\n",
       " ('close', 'VB'),\n",
       " ('.', '.')]"
      ]
     },
     "execution_count": 8,
     "metadata": {},
     "output_type": "execute_result"
    }
   ],
   "source": [
    "nltk.pos_tag(word_tokenize(text2)) #part-of-speech_tag\n",
    "#NNP = Proper noun\n",
    "#VBD = Verb\n",
    "#PRP = Pronoun"
   ]
  },
  {
   "cell_type": "code",
   "execution_count": 6,
   "metadata": {
    "collapsed": false
   },
   "outputs": [
    {
     "name": "stdout",
     "output_type": "stream",
     "text": [
      "Synset('bass.n.01') ===> the lowest part of the musical range\n",
      "Synset('bass.n.02') ===> the lowest part in polyphonic music\n",
      "Synset('bass.n.03') ===> an adult male singer with the lowest voice\n",
      "Synset('sea_bass.n.01') ===> the lean flesh of a saltwater fish of the family Serranidae\n",
      "Synset('freshwater_bass.n.01') ===> any of various North American freshwater fish with lean flesh (especially of the genus Micropterus)\n",
      "Synset('bass.n.06') ===> the lowest adult male singing voice\n",
      "Synset('bass.n.07') ===> the member with the lowest range of a family of musical instruments\n",
      "Synset('bass.n.08') ===> nontechnical name for any of numerous edible marine and freshwater spiny-finned fishes\n",
      "Synset('bass.s.01') ===> having or denoting a low vocal or instrumental range\n"
     ]
    }
   ],
   "source": [
    "#5. WordSense Disambiguation\n",
    "from nltk.corpus import wordnet as wn #wordnet is like a lexicon(thesaurus)\n",
    "for ss in wn.synsets('bass'): #each synset represents one single definition of a word\n",
    "    print(ss,\"===>\", ss.definition())"
   ]
  },
  {
   "cell_type": "code",
   "execution_count": 9,
   "metadata": {
    "collapsed": false
   },
   "outputs": [
    {
     "name": "stdout",
     "output_type": "stream",
     "text": [
      "Synset('bass.n.07') ===> the member with the lowest range of a family of musical instruments\n",
      "Synset('sea_bass.n.01') ===> the lean flesh of a saltwater fish of the family Serranidae\n"
     ]
    }
   ],
   "source": [
    "from nltk.wsd import lesk  #lesk is a function for word-sense disambiguation\n",
    "sense1 = lesk(word_tokenize(\"Sing in a lower tone, along with the bass\"),'bass') #asking the definition of 'bass' within the context of \"Sing in a lower tone, along with the bass\"\n",
    "print(sense1,\"===>\", sense1.definition())\n",
    "sense2 = lesk(word_tokenize(\"This sea bass was really hard to catch\"),'bass')\n",
    "print(sense2,\"===>\", sense2.definition())"
   ]
  },
  {
   "cell_type": "code",
   "execution_count": null,
   "metadata": {
    "collapsed": true
   },
   "outputs": [],
   "source": [
    "  "
   ]
  }
 ],
 "metadata": {
  "kernelspec": {
   "display_name": "Python 3",
   "language": "python",
   "name": "python3"
  },
  "language_info": {
   "codemirror_mode": {
    "name": "ipython",
    "version": 3
   },
   "file_extension": ".py",
   "mimetype": "text/x-python",
   "name": "python",
   "nbconvert_exporter": "python",
   "pygments_lexer": "ipython3",
   "version": "3.5.2"
  }
 },
 "nbformat": 4,
 "nbformat_minor": 0
}
